{
  "nbformat": 4,
  "nbformat_minor": 0,
  "metadata": {
    "colab": {
      "provenance": [],
      "authorship_tag": "ABX9TyP0K6fCowdcQcccQrVCgUWI",
      "include_colab_link": true
    },
    "kernelspec": {
      "name": "python3",
      "display_name": "Python 3"
    },
    "language_info": {
      "name": "python"
    }
  },
  "cells": [
    {
      "cell_type": "markdown",
      "metadata": {
        "id": "view-in-github",
        "colab_type": "text"
      },
      "source": [
        "<a href=\"https://colab.research.google.com/github/bhavani-priya880/machine-learning-mini-projects/blob/main/studybuddyAI.ipynb\" target=\"_parent\"><img src=\"https://colab.research.google.com/assets/colab-badge.svg\" alt=\"Open In Colab\"/></a>"
      ]
    },
    {
      "cell_type": "code",
      "execution_count": null,
      "metadata": {
        "id": "mLfFPmF1sJbD"
      },
      "outputs": [],
      "source": [
        "# Install Hugging Face transformers\n",
        "!pip install transformers sentencepiece accelerate datasets\n",
        "\n",
        "from transformers import pipeline\n",
        "\n",
        "# 1. Named Entity Recognition (NER)\n",
        "ner = pipeline(\"ner\", model=\"dslim/bert-base-NER\", grouped_entities=True)\n",
        "text = \"Albert Einstein developed the theory of relativity in Germany.\"\n",
        "print(\"NER:\", ner(text))\n",
        "\n",
        "# 2. Question Answering (like chatbot)\n",
        "qa = pipeline(\"question-answering\", model=\"deepset/roberta-base-squad2\")\n",
        "context = \"Albert Einstein developed the theory of relativity. He was born in Germany in 1879.\"\n",
        "question = \"Who developed the theory of relativity?\"\n",
        "print(\"QA:\", qa(question=question, context=context))\n",
        "\n",
        "# 3. Question Generation (quiz)\n",
        "from transformers import AutoTokenizer, AutoModelForSeq2SeqLM\n",
        "qg_tokenizer = AutoTokenizer.from_pretrained(\"iarfmoose/t5-base-question-generator\")\n",
        "qg_model = AutoModelForSeq2SeqLM.from_pretrained(\"iarfmoose/t5-base-question-generator\")\n",
        "\n",
        "from transformers import pipeline\n",
        "qg = pipeline(\"text2text-generation\", model=qg_model, tokenizer=qg_tokenizer)\n",
        "\n",
        "study_text = \"Mahatma Gandhi led India’s independence movement using non-violence and civil disobedience.\"\n",
        "generated = qg(\"generate questions: \" + study_text, max_length=64, num_return_sequences=2)\n",
        "print(\"Generated Questions:\", generated)\n"
      ]
    },
    {
      "cell_type": "markdown",
      "source": [],
      "metadata": {
        "id": "Eh7NjXVOscsE"
      }
    },
    {
      "cell_type": "code",
      "source": [
        "# STEP 1: Install dependencies\n",
        "!pip install transformers sentencepiece accelerate datasets gradio gTTS SpeechRecognition pydub\n",
        "!apt-get -qq install -y ffmpeg\n"
      ],
      "metadata": {
        "id": "NqH4VU9Wserg"
      },
      "execution_count": null,
      "outputs": []
    },
    {
      "cell_type": "code",
      "source": [
        "# STEP 2: Imports\n",
        "import os, random, tempfile, json\n",
        "import gradio as gr\n",
        "from gtts import gTTS\n",
        "import speech_recognition as sr\n",
        "from pydub import AudioSegment\n",
        "from transformers import pipeline, AutoTokenizer, AutoModelForSeq2SeqLM\n",
        "\n",
        "# Hugging Face pipelines\n",
        "ner_pipe = pipeline(\"ner\", model=\"dslim/bert-base-NER\", grouped_entities=True)\n",
        "qa_pipe = pipeline(\"question-answering\", model=\"deepset/roberta-base-squad2\")\n",
        "\n",
        "# Question generation model\n",
        "qg_tokenizer = AutoTokenizer.from_pretrained(\"iarfmoose/t5-base-question-generator\")\n",
        "qg_model = AutoModelForSeq2SeqLM.from_pretrained(\"iarfmoose/t5-base-question-generator\")\n",
        "qg_pipe = pipeline(\"text2text-generation\", model=qg_model, tokenizer=qg_tokenizer)\n"
      ],
      "metadata": {
        "id": "EvBTqP89tjW_"
      },
      "execution_count": null,
      "outputs": []
    },
    {
      "cell_type": "code",
      "source": [
        "# STEP 3: Helpers\n",
        "\n",
        "# ASR: Convert speech -> text\n",
        "def transcribe_audio(path):\n",
        "    recognizer = sr.Recognizer()\n",
        "    with sr.AudioFile(path) as source:\n",
        "        audio = recognizer.record(source)\n",
        "    try:\n",
        "        return recognizer.recognize_google(audio)\n",
        "    except:\n",
        "        return \"[ASR Error: Could not understand audio]\"\n",
        "\n",
        "# Convert audio to wav (pydub)\n",
        "def convert_to_wav(input_path):\n",
        "    out_path = str(tempfile.NamedTemporaryFile(suffix=\".wav\", delete=False).name)\n",
        "    audio = AudioSegment.from_file(input_path)\n",
        "    audio = audio.set_channels(1).set_frame_rate(16000)\n",
        "    audio.export(out_path, format=\"wav\")\n",
        "    return out_path\n",
        "\n",
        "# TTS: Convert text -> mp3\n",
        "def tts_to_audio(text):\n",
        "    out_path = str(tempfile.NamedTemporaryFile(suffix=\".mp3\", delete=False).name)\n",
        "    tts = gTTS(text=text, lang=\"en\")\n",
        "    tts.save(out_path)\n",
        "    return out_path\n",
        "\n",
        "# NER Highlight\n",
        "def highlight_entities(text):\n",
        "    ents = ner_pipe(text)\n",
        "    highlighted = text\n",
        "    for ent in ents:\n",
        "        highlighted = highlighted.replace(ent[\"word\"], f\"[{ent['word']} ({ent['entity_group']})]\")\n",
        "    return highlighted, ents\n",
        "\n",
        "# Quiz generation\n",
        "import spacy\n",
        "nlp = spacy.load(\"en_core_web_sm\")\n",
        "\n",
        "def generate_mcqs(text, n=5):\n",
        "    if not text.strip():\n",
        "        return [\"Please provide some study material.\"]\n",
        "\n",
        "    try:\n",
        "        input_text = \"generate questions: \" + text\n",
        "        num_beams = max(n, 5)  # avoid beam mismatch error\n",
        "        questions_raw = qg_pipe(\n",
        "            input_text,\n",
        "            max_length=128,\n",
        "            num_return_sequences=n,\n",
        "            do_sample=True,\n",
        "            num_beams=num_beams\n",
        "        )\n",
        "\n",
        "        # Extract nouns for answers/distractors\n",
        "        doc = nlp(text)\n",
        "        nouns = list(set([token.text for token in doc if token.pos_ in [\"PROPN\", \"NOUN\"]]))\n",
        "        if not nouns:\n",
        "            nouns = [\"Answer\"]\n",
        "\n",
        "        mcqs = []\n",
        "        for i, q in enumerate(questions_raw, 1):\n",
        "            question_text = q.get(\"generated_text\", f\"Question {i}?\")\n",
        "            correct_answer = random.choice(nouns)\n",
        "            distractors = [w for w in nouns if w != correct_answer]\n",
        "\n",
        "            if len(distractors) >= 3:\n",
        "                wrong_choices = random.sample(distractors, 3)\n",
        "            else:\n",
        "                wrong_choices = [\"Option X\", \"Option Y\", \"Option Z\"][:3]\n",
        "\n",
        "            options = [correct_answer] + wrong_choices\n",
        "            random.shuffle(options)\n",
        "\n",
        "            mcq_text = (\n",
        "                f\"{i}. {question_text}\\n\"\n",
        "                f\"A) {options[0]}\\n\"\n",
        "                f\"B) {options[1]}\\n\"\n",
        "                f\"C) {options[2]}\\n\"\n",
        "                f\"D) {options[3]}\\n\"\n",
        "            )\n",
        "            mcqs.append(mcq_text)\n",
        "\n",
        "        return mcqs\n",
        "\n",
        "    except Exception as e:\n",
        "        return [f\"Error generating MCQs: {str(e)}\"]\n",
        "\n",
        "# Q&A\n",
        "def answer_question(question, context):\n",
        "    result = qa_pipe(question=question, context=context)\n",
        "    return result[\"answer\"]\n"
      ],
      "metadata": {
        "id": "FDSww8intsyT"
      },
      "execution_count": 6,
      "outputs": []
    },
    {
      "cell_type": "code",
      "source": [
        "# STEP 4: Gradio UI\n",
        "\n",
        "import gradio as gr\n",
        "\n",
        "with gr.Blocks() as demo:\n",
        "    gr.Markdown(\"# 🎓 StudyBuddy: AI-powered Study Assistant (Hackathon Project)\")\n",
        "\n",
        "    with gr.Tab(\"📘 Study Material → Entities + Quiz\"):\n",
        "        notes = gr.Textbox(label=\"Paste your study notes here\", lines=10)\n",
        "        btn_ner = gr.Button(\"Highlight Key Entities\")\n",
        "        ner_output = gr.Textbox(label=\"Highlighted Entities\")\n",
        "\n",
        "        btn_quiz = gr.Button(\"Generate Quiz Questions\")\n",
        "        quiz_output = gr.Textbox(label=\"Generated Quiz\", lines=8)\n",
        "\n",
        "        btn_ner.click(lambda t: highlight_entities(t)[0], notes, ner_output)\n",
        "        btn_quiz.click(lambda t: \"\\n\\n\".join(generate_mcqs(t, n=5)), notes, quiz_output)\n",
        "\n",
        "    with gr.Tab(\"💬 Chat with StudyBuddy (Voice + Text)\"):\n",
        "        chatbot = gr.Chatbot(label=\"Chatbot\")\n",
        "        txt_in = gr.Textbox(label=\"Type your question here\")\n",
        "        mic_in = gr.Audio(type=\"filepath\", label=\"Or use your voice\")\n",
        "        tts_audio = gr.Audio(label=\"StudyBuddy speaks (TTS)\", interactive=False)\n",
        "\n",
        "        def chat_text(msg, history, notes):\n",
        "            ans = answer_question(msg, notes)\n",
        "            audio = tts_to_audio(ans)\n",
        "            history.append((\"You: \" + msg, \"StudyBuddy: \" + ans))\n",
        "            return history, audio\n",
        "\n",
        "        def chat_voice(path, history, notes):\n",
        "            wav = convert_to_wav(path)\n",
        "            msg = transcribe_audio(wav)\n",
        "            ans = answer_question(msg, notes)\n",
        "            audio = tts_to_audio(ans)\n",
        "            history.append((\"You (voice): \" + msg, \"StudyBuddy: \" + ans))\n",
        "            return history, audio\n",
        "\n",
        "        txt_in.submit(chat_text, [txt_in, chatbot, notes], [chatbot, tts_audio])\n",
        "        mic_in.change(chat_voice, [mic_in, chatbot, notes], [chatbot, tts_audio])\n",
        "\n",
        "demo.launch(share=True)"
      ],
      "metadata": {
        "colab": {
          "base_uri": "https://localhost:8080/",
          "height": 643
        },
        "id": "ncFY5O7ft29q",
        "outputId": "7a0fa489-0c88-4700-c6ae-fcff2a4cb2c1"
      },
      "execution_count": 7,
      "outputs": [
        {
          "output_type": "stream",
          "name": "stderr",
          "text": [
            "/tmp/ipython-input-3639366662.py:20: UserWarning: You have not specified a value for the `type` parameter. Defaulting to the 'tuples' format for chatbot messages, but this is deprecated and will be removed in a future version of Gradio. Please set type='messages' instead, which uses openai-style dictionaries with 'role' and 'content' keys.\n",
            "  chatbot = gr.Chatbot(label=\"Chatbot\")\n"
          ]
        },
        {
          "output_type": "stream",
          "name": "stdout",
          "text": [
            "Colab notebook detected. To show errors in colab notebook, set debug=True in launch()\n",
            "* Running on public URL: https://af4fa097493cceaadf.gradio.live\n",
            "\n",
            "This share link expires in 1 week. For free permanent hosting and GPU upgrades, run `gradio deploy` from the terminal in the working directory to deploy to Hugging Face Spaces (https://huggingface.co/spaces)\n"
          ]
        },
        {
          "output_type": "display_data",
          "data": {
            "text/plain": [
              "<IPython.core.display.HTML object>"
            ],
            "text/html": [
              "<div><iframe src=\"https://af4fa097493cceaadf.gradio.live\" width=\"100%\" height=\"500\" allow=\"autoplay; camera; microphone; clipboard-read; clipboard-write;\" frameborder=\"0\" allowfullscreen></iframe></div>"
            ]
          },
          "metadata": {}
        },
        {
          "output_type": "execute_result",
          "data": {
            "text/plain": []
          },
          "metadata": {},
          "execution_count": 7
        }
      ]
    }
  ]
}